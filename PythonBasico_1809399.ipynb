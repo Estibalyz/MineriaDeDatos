{
 "cells": [
  {
   "cell_type": "markdown",
   "metadata": {},
   "source": [
    "Programa 1 Hola mundo"
   ]
  },
  {
   "cell_type": "code",
   "execution_count": 1,
   "metadata": {},
   "outputs": [
    {
     "name": "stdout",
     "output_type": "stream",
     "text": [
      "Hola mundo!!\n"
     ]
    }
   ],
   "source": [
    "print (\"Hola mundo!!\")"
   ]
  },
  {
   "cell_type": "markdown",
   "metadata": {},
   "source": [
    "### Ejercicio 1\n",
    "\n",
    "Realizar una variable con tu matrícula y realiza una secuencia de imprimir con tu nombre y matricula concatenados\n",
    "    \n",
    "    Programa 2 Matemáticas sencillas"
   ]
  },
  {
   "cell_type": "code",
   "execution_count": 2,
   "metadata": {},
   "outputs": [
    {
     "name": "stdout",
     "output_type": "stream",
     "text": [
      "1345 22 17 1809399\n",
      "Mi matricula es: 1809399\n"
     ]
    }
   ],
   "source": [
    "a=1345\n",
    "b=22\n",
    "c=17\n",
    "\n",
    "d=a**2+b*c\n",
    "print (a,b,c,d)\n",
    "\n",
    "print (\"Mi matricula es:\", d)"
   ]
  },
  {
   "cell_type": "markdown",
   "metadata": {},
   "source": [
    "Input del usuario:"
   ]
  },
  {
   "cell_type": "code",
   "execution_count": 3,
   "metadata": {},
   "outputs": [
    {
     "name": "stdout",
     "output_type": "stream",
     "text": [
      "Introduce tu nombre: Estibalyz\n",
      "Introduce tu apellido: Villarreal\n",
      "Mi nombre es:  Estibalyz Villarreal y mi matricula es:  1809399\n"
     ]
    }
   ],
   "source": [
    "a1= input(\"Introduce tu nombre: \")\n",
    "b1= input(\"Introduce tu apellido: \")\n",
    "\n",
    "print(\"Mi nombre es: \", a1,b1, \"y mi matricula es: \",d)"
   ]
  },
  {
   "cell_type": "markdown",
   "metadata": {},
   "source": [
    "### Ejercicio 2\n",
    "\n",
    "Pidiendo el input del usuario pide dos números y crea una pequeña calculadora con los operadores básicos de suma, resta, multiplicación, división, y exponente."
   ]
  },
  {
   "cell_type": "code",
   "execution_count": 10,
   "metadata": {
    "scrolled": true
   },
   "outputs": [
    {
     "name": "stdout",
     "output_type": "stream",
     "text": [
      "Introduce el primer número:8\n",
      "Introduce el segundo número:2\n",
      "La suma de 8 más 2 es: 10\n",
      "La resta de 8 menos 2 es: 6\n",
      "La resta de 2 menos 8 es: -6\n",
      "La multiplicación de 8 por 2 es: 16\n",
      "La división de 8 entre 2 es: 4.0\n",
      "La división de 2 entre 8 es: 0.25\n",
      "8 elevado a la 2 es: 64\n",
      "2 elevado a la 8 es: 256\n"
     ]
    }
   ],
   "source": [
    "n1= int(input(\"Introduce el primer número:\"))\n",
    "n2= int(input(\"Introduce el segundo número:\"))\n",
    "\n",
    "suma= n1+n2\n",
    "resta1= n1-n2\n",
    "resta2= n2-n1\n",
    "mult= n1*n2\n",
    "div1= n1/n2\n",
    "div2= n2/n1\n",
    "exp1= n1**n2\n",
    "exp2= n2**n1\n",
    "\n",
    "print(\"La suma de\", n1, \"más\", n2, \"es:\", suma)\n",
    "print(\"La resta de\", n1, \"menos\", n2,\"es:\", resta1)\n",
    "print(\"La resta de\", n2, \"menos\", n1,\"es:\", resta2)\n",
    "print(\"La multiplicación de\", n1, \"por\", n2, \"es:\", mult)\n",
    "print(\"La división de\", n1, \"entre\", n2, \"es:\", div1)\n",
    "print(\"La división de\", n2, \"entre\", n1, \"es:\", div2)\n",
    "print(n1, \"elevado a la\", n2, \"es:\", exp1)\n",
    "print(n2, \"elevado a la\", n1, \"es:\", exp2)"
   ]
  },
  {
   "cell_type": "markdown",
   "metadata": {},
   "source": [
    "### Ejercicio 3:\n",
    "\n",
    "Con loop while o for, realiza una lista de 10 numeros multiplos de 3, y después realiza una función de loop que sume todos los números dentro del arreglo."
   ]
  },
  {
   "cell_type": "code",
   "execution_count": 13,
   "metadata": {},
   "outputs": [
    {
     "name": "stdout",
     "output_type": "stream",
     "text": [
      "La lista de 10 números divisores de 3: [3, 6, 9, 12, 15, 18, 21, 24, 27, 30]\n",
      "La suma es de los divisores es: 165\n"
     ]
    }
   ],
   "source": [
    "i=1\n",
    "lista=[]\n",
    "\n",
    "for i in range(1,31):\n",
    "    if i%3==0:\n",
    "        lista.append(i)\n",
    "i=i+1\n",
    "\n",
    "print(\"La lista de 10 números divisores de 3:\",lista)\n",
    "print(\"La suma es de los divisores es:\",sum(lista))"
   ]
  },
  {
   "cell_type": "markdown",
   "metadata": {},
   "source": [
    "### Ejercicio 4\n",
    "\n",
    "Con una función de if else, revisar si un número es par o es impar.\n",
    "\n",
    "Con una función de if else, revisar si un número es primo o no."
   ]
  },
  {
   "cell_type": "code",
   "execution_count": 2,
   "metadata": {},
   "outputs": [
    {
     "name": "stdout",
     "output_type": "stream",
     "text": [
      "Selecciona un número: 7\n",
      "El número 7 es impar\n"
     ]
    }
   ],
   "source": [
    "num=int(input(\"Selecciona un número: \"))\n",
    "\n",
    "if num%2==0:\n",
    "    print(\"El número\", num, \"es par\")\n",
    "else:\n",
    "    print(\"El número\", num, \"es impar\")"
   ]
  },
  {
   "cell_type": "code",
   "execution_count": 28,
   "metadata": {},
   "outputs": [
    {
     "name": "stdout",
     "output_type": "stream",
     "text": [
      "Selecciona un número: 3\n",
      "El número 3 es primo\n"
     ]
    }
   ],
   "source": [
    "num2=int(input(\"Selecciona un número: \"))\n",
    "i=0\n",
    "aux=0\n",
    "\n",
    "for i in range (2,num2-1):\n",
    "    if num2%i==0:\n",
    "        aux= aux+1\n",
    "i=i+1\n",
    "\n",
    "if aux>0:\n",
    "    print(\"El número\", num2,\"no es primo\")\n",
    "else:\n",
    "    print (\"El número\", num2, \"es primo\")"
   ]
  },
  {
   "cell_type": "markdown",
   "metadata": {},
   "source": [
    "### Ejercicio 5\n",
    "\n",
    "Utilizando diferentes clases en python, crea una calculadora con los operadores básicos de suma, resta, multiplicación, división, y exponente.\n"
   ]
  },
  {
   "cell_type": "code",
   "execution_count": 7,
   "metadata": {},
   "outputs": [
    {
     "name": "stdout",
     "output_type": "stream",
     "text": [
      "Introduce el primer número:3\n",
      "Introduce el segundo número:5\n",
      "La suma de 3 más 5 es: 8\n",
      "La resta de 3 menos 5 es: -2\n",
      "La resta de 5 menos 3 es: 2\n",
      "La multiplicación de 3 por 5 es: 15\n",
      "La división de 3 entre 5 es: 0.6\n",
      "La división de 5 entre 3 es: 1.6666666666666667\n",
      "3 elevado a la 5 es: 243.0\n",
      "5 elevado a la 3 es: 125.0\n"
     ]
    }
   ],
   "source": [
    "import math as m\n",
    "\n",
    "n1= int(input(\"Introduce el primer número:\"))\n",
    "n2= int(input(\"Introduce el segundo número:\"))\n",
    "\n",
    "suma= n1+n2\n",
    "resta1= n1-n2\n",
    "resta2= n2-n1\n",
    "mult= n1*n2\n",
    "div1= n1/n2\n",
    "div2= n2/n1\n",
    "exp1= m.pow(n1,n2)\n",
    "exp2= m.pow(n2,n1)\n",
    "\n",
    "print(\"La suma de\", n1, \"más\", n2, \"es:\", suma)\n",
    "print(\"La resta de\", n1, \"menos\", n2,\"es:\", resta1)\n",
    "print(\"La resta de\", n2, \"menos\", n1,\"es:\", resta2)\n",
    "print(\"La multiplicación de\", n1, \"por\", n2, \"es:\", mult)\n",
    "print(\"La división de\", n1, \"entre\", n2, \"es:\", div1)\n",
    "print(\"La división de\", n2, \"entre\", n1, \"es:\", div2)\n",
    "print(n1, \"elevado a la\", n2, \"es:\", exp1)\n",
    "print(n2, \"elevado a la\", n1, \"es:\", exp2)"
   ]
  },
  {
   "cell_type": "markdown",
   "metadata": {},
   "source": [
    "## Ejercicios con estructuras básicas de python.\n",
    "### Tuplas\n",
    "\n",
    "Crear una variable flotante, integer, boleana y compleja e imprimir el tipo de variable que es."
   ]
  },
  {
   "cell_type": "code",
   "execution_count": 21,
   "metadata": {},
   "outputs": [
    {
     "name": "stdout",
     "output_type": "stream",
     "text": [
      "0.5     su tipo es <class 'float'>\n",
      "1     su tipo es <class 'int'>\n",
      "True     su tipo es <class 'bool'>\n",
      "(6+7j)     su tipo es <class 'complex'>\n"
     ]
    }
   ],
   "source": [
    "tupla=(0.5,1,True,6+7j)\n",
    "for i in range (len(tupla)):\n",
    "    print(tupla[i], \"    su tipo es\", type(tupla[i]))"
   ]
  },
  {
   "cell_type": "markdown",
   "metadata": {},
   "source": [
    "Crear una tupla con valores enteros imprimir el primer y ultimo valor."
   ]
  },
  {
   "cell_type": "code",
   "execution_count": 22,
   "metadata": {},
   "outputs": [
    {
     "name": "stdout",
     "output_type": "stream",
     "text": [
      "Su primer valor es: 5\n",
      "Su ulrimo valor es: 7\n"
     ]
    }
   ],
   "source": [
    "tupla=(5,6,1,2,3,9,7)\n",
    "print (\"Su primer valor es:\", tupla[0])\n",
    "print (\"Su ulrimo valor es:\", tupla[len(tupla)-1])"
   ]
  },
  {
   "cell_type": "markdown",
   "metadata": {},
   "source": [
    "Añadir 3 valores de string a la tupla."
   ]
  },
  {
   "cell_type": "code",
   "execution_count": 27,
   "metadata": {},
   "outputs": [
    {
     "name": "stdout",
     "output_type": "stream",
     "text": [
      "(5, 6, 1, 2, 3, 9, 7, 'hoy', 'ayer', 'mañana')\n"
     ]
    }
   ],
   "source": [
    "tupla=(5,6,1,2,3,9,7)\n",
    "tuplalista=list(tupla)\n",
    "tuplalista.append(\"hoy\")\n",
    "tuplalista.append(\"ayer\")\n",
    "tuplalista.append(\"mañana\")\n",
    "\n",
    "tuplafin= tuple(tuplalista)\n",
    "print(tuplafin)"
   ]
  },
  {
   "cell_type": "markdown",
   "metadata": {},
   "source": [
    "Verificar si una variable existe dentro de la tupla."
   ]
  },
  {
   "cell_type": "code",
   "execution_count": 32,
   "metadata": {},
   "outputs": [
    {
     "name": "stdout",
     "output_type": "stream",
     "text": [
      "Ingrese el valor a buscar4\n",
      "La variable 4 no está dentro de la tupla\n"
     ]
    }
   ],
   "source": [
    "aux=0\n",
    "tupla=(5,6,1,2,3,9,7)\n",
    "valor= int(input(\"Ingrese el valor a buscar\"))\n",
    "\n",
    "for i in range (len(tupla)):\n",
    "    if valor==tupla[i]:\n",
    "        aux=aux+1\n",
    "        \n",
    "if aux==0:\n",
    "    print(\"La variable\", valor, \"no está dentro de la tupla\")\n",
    "else:\n",
    "    print(\"La variable\", valor, \"está dentro de la tupla\")"
   ]
  },
  {
   "cell_type": "markdown",
   "metadata": {},
   "source": [
    "### Listas\n",
    "Crear una lista con 40 elementos aleatorios enteros."
   ]
  },
  {
   "cell_type": "code",
   "execution_count": 37,
   "metadata": {},
   "outputs": [
    {
     "name": "stdout",
     "output_type": "stream",
     "text": [
      "[22, 73, 69, 60, 59, 5, 60, 77, 15, 21, 100, 32, 49, 69, 91, 45, 1, 71, 44, 97, 98, 2, 58, 29, 8, 67, 39, 48, 97, 30, 44, 66, 62, 64, 14, 40, 50, 75, 55, 29]\n"
     ]
    }
   ],
   "source": [
    "import random as r\n",
    "i=0\n",
    "lista=[]\n",
    "\n",
    "for i in range(40):\n",
    "    val=r.randint(1,100)\n",
    "    lista.append(val)\n",
    "print(lista)"
   ]
  },
  {
   "cell_type": "markdown",
   "metadata": {},
   "source": [
    "Con una funcion (def) crear dos listas nuevas a partir de la lista creada por numeros aleatorios, en la cual en una esten los elementos pares, y en la otra los elementos impares."
   ]
  },
  {
   "cell_type": "code",
   "execution_count": 41,
   "metadata": {},
   "outputs": [
    {
     "name": "stdout",
     "output_type": "stream",
     "text": [
      "[89, 36, 26, 11, 68, 4, 81, 21, 83, 18, 43, 24, 3, 50, 50, 43, 49, 66, 69, 43]\n",
      "La lista de los pares es:  [36, 26, 68, 4, 18, 24, 50, 50, 66]\n",
      "La lista de los impares es:  [89, 11, 81, 21, 83, 43, 3, 43, 49, 69, 43]\n"
     ]
    }
   ],
   "source": [
    "import random as r\n",
    "i=0\n",
    "lista=[]\n",
    "\n",
    "for i in range(20):\n",
    "    val=r.randint(1,100)\n",
    "    lista.append(val)\n",
    "print(lista)\n",
    "\n",
    "def separar(l):\n",
    "    j=0\n",
    "    listapares=[]\n",
    "    listaimpares=[]\n",
    "    for j in range(20):\n",
    "        if lista[j] % 2 == 0:\n",
    "            listapares.append(lista[j])\n",
    "        else:\n",
    "            listaimpares.append(lista[j])\n",
    "    print(\"La lista de los pares es: \", listapares)\n",
    "    print(\"La lista de los impares es: \", listaimpares)\n",
    "    \n",
    "separar(lista)"
   ]
  },
  {
   "cell_type": "markdown",
   "metadata": {},
   "source": [
    "Crear dos variables con la longitud de ambas listas nuevas e imprimir las variables."
   ]
  },
  {
   "cell_type": "code",
   "execution_count": 42,
   "metadata": {},
   "outputs": [
    {
     "name": "stdout",
     "output_type": "stream",
     "text": [
      "[37, 69, 16, 61, 25, 37, 89, 63, 2, 50, 89, 76, 86, 3, 49, 1, 27, 47, 59, 85]\n",
      "La lista de los pares es:  [16, 2, 50, 76, 86]\n",
      "La lista de los impares es:  [37, 69, 61, 25, 37, 89, 63, 89, 3, 49, 1, 27, 47, 59, 85]\n",
      "La longitud de la lista de los pares es:  5\n",
      "La longitud de la lista de los impares es:  15\n"
     ]
    }
   ],
   "source": [
    "import random as r\n",
    "i=0\n",
    "lista=[]\n",
    "\n",
    "for i in range(20):\n",
    "    val=r.randint(1,100)\n",
    "    lista.append(val)\n",
    "print(lista)\n",
    "\n",
    "def separar(l):\n",
    "    j=0\n",
    "    listapares=[]\n",
    "    listaimpares=[]\n",
    "    for j in range(20):\n",
    "        if lista[j] % 2 == 0:\n",
    "            listapares.append(lista[j])\n",
    "        else:\n",
    "            listaimpares.append(lista[j])\n",
    "    print(\"La lista de los pares es: \", listapares)\n",
    "    print(\"La lista de los impares es: \", listaimpares)\n",
    "    print(\"La longitud de la lista de los pares es: \",len(listapares))\n",
    "    print(\"La longitud de la lista de los impares es: \",len(listaimpares))\n",
    "    \n",
    "separar(lista)"
   ]
  },
  {
   "cell_type": "markdown",
   "metadata": {},
   "source": [
    "Ordenar los elementos de la lista par de mayor a menor, y los de la lista impar de menor a mayor."
   ]
  },
  {
   "cell_type": "code",
   "execution_count": 43,
   "metadata": {},
   "outputs": [
    {
     "name": "stdout",
     "output_type": "stream",
     "text": [
      "[7, 19, 99, 80, 16, 8, 15, 87, 86, 34, 90, 17, 33, 63, 75, 56, 12, 10, 4, 10]\n",
      "La lista de los pares es:  [80, 16, 8, 86, 34, 90, 56, 12, 10, 4, 10]\n",
      "La lista de los impares es:  [7, 19, 99, 15, 87, 17, 33, 63, 75]\n",
      "La longitud de la lista de los pares es:  11\n",
      "La longitud de la lista de los impares es:  9\n",
      "La lista de los pares de mayor a menor es:  [90, 86, 80, 56, 34, 16, 12, 10, 10, 8, 4]\n",
      "La lista de los impares de menor a mayor es:  [7, 15, 17, 19, 33, 63, 75, 87, 99]\n"
     ]
    }
   ],
   "source": [
    "import random as r\n",
    "i=0\n",
    "lista=[]\n",
    "\n",
    "for i in range(20):\n",
    "    val=r.randint(1,100)\n",
    "    lista.append(val)\n",
    "print(lista)\n",
    "\n",
    "def separar(l):\n",
    "    j=0\n",
    "    listapares=[]\n",
    "    listaimpares=[]\n",
    "    for j in range(20):\n",
    "        if lista[j] % 2 == 0:\n",
    "            listapares.append(lista[j])\n",
    "        else:\n",
    "            listaimpares.append(lista[j])\n",
    "    print(\"La lista de los pares es: \", listapares)\n",
    "    print(\"La lista de los impares es: \", listaimpares)\n",
    "    print(\"La longitud de la lista de los pares es: \",len(listapares))\n",
    "    print(\"La longitud de la lista de los impares es: \",len(listaimpares))\n",
    "    print(\"La lista de los pares de mayor a menor es: \", sorted(listapares,reverse=True))\n",
    "    print(\"La lista de los impares de menor a mayor es: \", sorted(listaimpares))\n",
    "    \n",
    "separar(lista)"
   ]
  },
  {
   "cell_type": "markdown",
   "metadata": {},
   "source": [
    "Utilizar al menos cuatro de las funciones de listas en python en la lista original de 40 elementos."
   ]
  },
  {
   "cell_type": "code",
   "execution_count": 44,
   "metadata": {},
   "outputs": [
    {
     "name": "stdout",
     "output_type": "stream",
     "text": [
      "[2, 62, 26, 64, 85, 91, 79, 82, 39, 34, 82, 71, 88, 64, 20, 39, 81, 51, 78, 96]\n",
      "La suma de la lista es: 1234\n",
      "La longitud de la lista es: 20\n",
      "El número mayor de la lista es: 96\n",
      "El número menor de la lista es: 2\n"
     ]
    }
   ],
   "source": [
    "import random as r\n",
    "i=0\n",
    "lista=[]\n",
    "\n",
    "for i in range(20):\n",
    "    val=r.randint(1,100)\n",
    "    lista.append(val)\n",
    "print(lista)\n",
    "\n",
    "print(\"La suma de la lista es:\", sum(lista))\n",
    "print(\"La longitud de la lista es:\", len(lista))\n",
    "print(\"El número mayor de la lista es:\", max(lista))\n",
    "print(\"El número menor de la lista es:\", min(lista))"
   ]
  },
  {
   "cell_type": "markdown",
   "metadata": {},
   "source": [
    "### Diccionarios\n",
    "Crear un diccionario de 6 personas que conozcas con su primer nombre y su edad."
   ]
  },
  {
   "cell_type": "code",
   "execution_count": 57,
   "metadata": {},
   "outputs": [
    {
     "name": "stdout",
     "output_type": "stream",
     "text": [
      "{1: ['Magda', 20], 2: ['Adriana', 18], 3: ['Luis', 22], 4: ['Dante', 21], 5: ['Emely', 19], 6: ['Bryan', 23]}\n"
     ]
    }
   ],
   "source": [
    "diccionario= {1:[\"Magda\",20], 2:[\"Adriana\",18], 3:[\"Luis\",22], 4: [\"Dante\",21], 5: [\"Emely\",19], 6: [\"Bryan\",23]}\n",
    "print(diccionario)"
   ]
  },
  {
   "cell_type": "markdown",
   "metadata": {},
   "source": [
    "Crear una lista con los valores de la edad y reacomodar la lista de menor a mayor valor."
   ]
  },
  {
   "cell_type": "code",
   "execution_count": 56,
   "metadata": {},
   "outputs": [
    {
     "name": "stdout",
     "output_type": "stream",
     "text": [
      "{1: ['Magda', 20], 2: ['Adriana', 18], 3: ['Luis', 22], 4: ['Dante', 21], 5: ['Emely', 19], 6: ['Bryan', 23]}\n",
      "Las edades ordenadas son: [18, 19, 20, 21, 22, 23]\n"
     ]
    }
   ],
   "source": [
    "diccionario= {1:[\"Magda\",20], 2:[\"Adriana\",18], 3:[\"Luis\",22], 4: [\"Dante\",21], 5: [\"Emely\",19], 6: [\"Bryan\",23]}\n",
    "print(diccionario)\n",
    "\n",
    "edades = []\n",
    "for i in range(1,7):\n",
    "    edades.append(diccionario[i][1])\n",
    "print(\"Las edades ordenadas son:\", sorted(edades))"
   ]
  },
  {
   "cell_type": "markdown",
   "metadata": {},
   "source": [
    "Usando el diccionario y un loop, imprimir solo los nombres."
   ]
  },
  {
   "cell_type": "code",
   "execution_count": 60,
   "metadata": {},
   "outputs": [
    {
     "name": "stdout",
     "output_type": "stream",
     "text": [
      "Los nombres son:\n",
      "Magda\n",
      "Adriana\n",
      "Luis\n",
      "Dante\n",
      "Emely\n",
      "Bryan\n"
     ]
    }
   ],
   "source": [
    "diccionario= {1:[\"Magda\",20], 2:[\"Adriana\",18], 3:[\"Luis\",22], 4: [\"Dante\",21], 5: [\"Emely\",19], 6: [\"Bryan\",23]}\n",
    "print(\"Los nombres son:\")\n",
    "for i in range(1,7):\n",
    "    print(diccionario[i][0])"
   ]
  },
  {
   "cell_type": "markdown",
   "metadata": {},
   "source": [
    "Añadir dos personas nuevas a tu diccionario, incluyendo edad."
   ]
  },
  {
   "cell_type": "code",
   "execution_count": 62,
   "metadata": {},
   "outputs": [
    {
     "name": "stdout",
     "output_type": "stream",
     "text": [
      "Agregar persona 1\n",
      "Su nombre es: Diana\n",
      "Su edad es: 25\n",
      "Agregar persona 2\n",
      "Su nombre es: Leonel\n",
      "Su edad es: 1\n",
      "{1: ['Magda', 20], 2: ['Adriana', 18], 3: ['Luis', 22], 4: ['Dante', 21], 5: ['Emely', 19], 6: ['Bryan', 23], 7: ['Diana', '25'], 8: ['Leonel', '1']}\n"
     ]
    }
   ],
   "source": [
    "diccionario= {1:[\"Magda\",20], 2:[\"Adriana\",18], 3:[\"Luis\",22], 4: [\"Dante\",21], 5: [\"Emely\",19], 6: [\"Bryan\",23]}\n",
    "\n",
    "print(\"Agregar persona 1\")\n",
    "p1= input(\"Su nombre es: \")\n",
    "e1= input(\"Su edad es: \")\n",
    "\n",
    "print(\"Agregar persona 2\")\n",
    "p2= input(\"Su nombre es: \")\n",
    "e2= input(\"Su edad es: \")\n",
    "\n",
    "diccionario[7]= [p1,e1]\n",
    "diccionario[8]= [p2,e2]\n",
    "\n",
    "print(diccionario)"
   ]
  },
  {
   "cell_type": "markdown",
   "metadata": {},
   "source": [
    "### Sets\n",
    "\n",
    "Crea un set con 100 numeros aleatorios enteros del 1 al 25."
   ]
  },
  {
   "cell_type": "code",
   "execution_count": 63,
   "metadata": {},
   "outputs": [
    {
     "name": "stdout",
     "output_type": "stream",
     "text": [
      "Set:  {1, 2, 3, 4, 5, 6, 7, 8, 9, 10, 11, 12, 13, 14, 15, 16, 17, 18, 19, 20, 21, 22, 23, 24, 25}\n"
     ]
    }
   ],
   "source": [
    "import random as r\n",
    "lista=[]\n",
    "\n",
    "for i in range(100):\n",
    "    val=r.randint(1,25)\n",
    "    lista.append(val)\n",
    "    lista = list(set(lista))\n",
    "\n",
    "print(\"Set: \", set(lista))"
   ]
  },
  {
   "cell_type": "markdown",
   "metadata": {},
   "source": [
    "Comprueba la longitud de tu set."
   ]
  },
  {
   "cell_type": "code",
   "execution_count": 66,
   "metadata": {},
   "outputs": [
    {
     "name": "stdout",
     "output_type": "stream",
     "text": [
      "Set:  {1, 2, 3, 4, 5, 6, 7, 8, 9, 10, 11, 12, 13, 14, 15, 16, 17, 18, 19, 20, 21, 22, 23, 24, 25}\n",
      "Longitud:  25\n"
     ]
    }
   ],
   "source": [
    "import random as r\n",
    "lista=[]\n",
    "\n",
    "for i in range(100):\n",
    "    val=r.randint(1,25)\n",
    "    lista.append(val)\n",
    "    lista = list(set(lista))\n",
    "\n",
    "print(\"Set: \", set(lista))\n",
    "print(\"Longitud: \", len(lista))"
   ]
  },
  {
   "cell_type": "markdown",
   "metadata": {},
   "source": [
    "Crea una lista de 5 numeros aleatorios del 1 al 10 y comprueba si cada valor aparece en el set inicial."
   ]
  },
  {
   "cell_type": "code",
   "execution_count": 68,
   "metadata": {},
   "outputs": [
    {
     "name": "stdout",
     "output_type": "stream",
     "text": [
      "Set:  {1, 2, 3, 4, 5, 6, 7, 8, 9, 10, 11, 12, 13, 14, 15, 16, 17, 18, 19, 20, 21, 22, 23, 24, 25}\n",
      "Longitud:  25\n",
      "Lista de 5 números random es: [3, 7, 1, 4, 4]\n",
      "3 Aparece en el set inicial\n",
      "7 Aparece en el set inicial\n",
      "1 Aparece en el set inicial\n",
      "4 Aparece en el set inicial\n",
      "4 Aparece en el set inicial\n"
     ]
    }
   ],
   "source": [
    "import random as r\n",
    "lista=[]\n",
    "lista1=[]\n",
    "\n",
    "for i in range(100):\n",
    "    val=r.randint(1,25)\n",
    "    lista.append(val)\n",
    "    lista = list(set(lista))\n",
    "\n",
    "print(\"Set: \", set(lista))\n",
    "print(\"Longitud: \", len(lista))\n",
    "\n",
    "for i in range(5):\n",
    "    aleat= r.randint(1, 10)\n",
    "    lista1.append(aleat)\n",
    "print(\"Lista de 5 números random es:\",lista1)\n",
    "\n",
    "for i in range(5):\n",
    "    for j  in range(len(lista)):\n",
    "        if lista1[i] == lista[j]:\n",
    "            print(lista1[i], \"Aparece en el set inicial\")"
   ]
  }
 ],
 "metadata": {
  "kernelspec": {
   "display_name": "Python 3",
   "language": "python",
   "name": "python3"
  },
  "language_info": {
   "codemirror_mode": {
    "name": "ipython",
    "version": 3
   },
   "file_extension": ".py",
   "mimetype": "text/x-python",
   "name": "python",
   "nbconvert_exporter": "python",
   "pygments_lexer": "ipython3",
   "version": "3.8.3"
  }
 },
 "nbformat": 4,
 "nbformat_minor": 4
}
